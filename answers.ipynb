{
 "cells": [
  {
   "cell_type": "markdown",
   "metadata": {},
   "source": [
    "## Reading mitab data from psicquic\n",
    "* [Requests API](https://requests.readthedocs.io/en/master/)"
   ]
  },
  {
   "cell_type": "code",
   "execution_count": null,
   "metadata": {},
   "outputs": [],
   "source": [
    "proxies = {\n",
    "  'http': 'http://ftprox.ibcp.fr:3128',\n",
    "  'https': 'http://ftprox.ibcp.fr:3128',\n",
    "}"
   ]
  },
  {
   "cell_type": "code",
   "execution_count": null,
   "metadata": {},
   "outputs": [],
   "source": [
    "import requests\n",
    "\n",
    "psicquicProviderURL=\"http://www.ebi.ac.uk/Tools/webservices/psicquic/intact/webservices/current/search\"\n",
    "miqlMethod=\"query\"\n",
    "miqlField=\"pubid\"\n",
    "miqlValue=\"17446270\"\n",
    "\n",
    "miqlRequest= f\"{psicquicProviderURL}/{miqlMethod}/{miqlField}:{miqlValue}\"\n",
    "\n",
    "print(miqlRequest)\n",
    "\n",
    "try:\n",
    "    httpReq = requests.get(miqlRequest, proxies=proxies)\n",
    "except NameError:\n",
    "    httpReq = requests.get(miqlRequest)\n",
    "\n",
    "ans = httpReq.text"
   ]
  },
  {
   "cell_type": "code",
   "execution_count": null,
   "metadata": {},
   "outputs": [],
   "source": [
    "psqData = [ _.split(\"\\t\") for _ in ans.split(\"\\n\") if len(_.split(\"\\t\")) > 1 ]\n",
    "    \n",
    "_ = len(psqData[0])\n",
    "for psqDatum in psqData:\n",
    "    assert len(psqDatum) == _\n",
    "print(f\"Total number of interaction data {len(psqData)}\")\n",
    "\n",
    "# Remove all psicquic entry not mapped to a uniprot ID and delete uniprot prefix\n",
    "psqData = [ [ ok[0].replace('uniprotkb:', ''), ok[1].replace('uniprotkb:', '') ] + ok[2:]  for ok in filter( lambda x:x[0].startswith(\"uniprotkb:\") and x[1].startswith(\"uniprotkb:\"), psqData ) ]\n",
    "\n",
    "psqData[-1]"
   ]
  },
  {
   "cell_type": "markdown",
   "metadata": {},
   "source": [
    "### Separate EBV-EBV and EBV-Human interactomes"
   ]
  },
  {
   "cell_type": "code",
   "execution_count": null,
   "metadata": {},
   "outputs": [],
   "source": [
    "import networkx as nx\n",
    "import re\n",
    "\n",
    "reEBV   = \"taxid:(1037[6-7]|82830)\"\n",
    "reHuman = \"taxid:9606\"\n",
    "EBV_psqData      = []\n",
    "HumanEBV_psqData = []\n",
    "\n",
    "G_EBV = nx.Graph()\n",
    "\n",
    "for psqDatum in psqData:\n",
    "    if re.search(reEBV, psqDatum[9]) and re.search(reEBV, psqDatum[10]):\n",
    "        G.add_edge(psqDatum[0], psqDatum[1])\n",
    "        EBV_psqData.append(psqDatum)\n",
    "    else:\n",
    "        HumanEBV_psqData.append(psqDatum)\n",
    "\n",
    "print(f\" EBV-EBV interaction count {len(HumanEBV_psqData)} // EBV-Human interaction count {len(EBV_psqData)}\")\n"
   ]
  },
  {
   "cell_type": "markdown",
   "metadata": {},
   "source": [
    "### Draw EBV-EBV PPI network\n",
    "* Labeled with uniprotID\n",
    "* [NetworkX Draw](https://networkx.github.io/documentation/latest/reference/generated/networkx.drawing.nx_pylab.draw_networkx.html#networkx.drawing.nx_pylab.draw_networkx)"
   ]
  },
  {
   "cell_type": "code",
   "execution_count": null,
   "metadata": {},
   "outputs": [],
   "source": [
    "%matplotlib nbagg\n",
    "import matplotlib.pyplot as plt"
   ]
  },
  {
   "cell_type": "code",
   "execution_count": null,
   "metadata": {},
   "outputs": [],
   "source": [
    "plt.figure(figsize=(10, 8))\n",
    "nx.draw(G, with_labels=True, node_size=3, font_size=8, linewidths=2)"
   ]
  },
  {
   "cell_type": "markdown",
   "metadata": {},
   "source": [
    "#### Draw EBV-EBV PPI network\n",
    "* Labeled with gene Name\n",
    "* Information provider: `./data/Calderwood_EBV_proteome.xml`\n",
    "* [NetworkX Draw](https://networkx.github.io/documentation/latest/reference/generated/networkx.drawing.nx_pylab.draw_networkx.html#networkx.drawing.nx_pylab.draw_networkx)"
   ]
  },
  {
   "cell_type": "code",
   "execution_count": null,
   "metadata": {},
   "outputs": [],
   "source": [
    "from xml.etree.ElementTree import parse, dump, fromstring, register_namespace, ElementTree\n",
    "\n",
    "# Utility functions\n",
    "\n",
    "def goTerms(xmlEntry):\n",
    "    ns = '{http://uniprot.org/uniprot}'\n",
    "    goTerms = xmlEntry.findall(ns +'dbReference[@type=\"GO\"]')\n",
    "    goTermList = []\n",
    "    for goT in goTerms:\n",
    "        gID   = goT.attrib['id']\n",
    "        gName = goT.find(ns +'property[@type=\"term\"]').attrib['value']\n",
    "        goTermList.append({\"name\" : gName, \"ID\" : gID})\n",
    "    return goTermList\n",
    "\n",
    "def proteinDict(uniprotID, root):\n",
    "    ns   = '{http://uniprot.org/uniprot}' \n",
    "    data = { \"accession\" : uniprotID, \"geneName\" : None, \"name\" : None,\n",
    "             \"GOterms\" : None\n",
    "           }\n",
    "    for entry in root.findall(ns+'entry'):\n",
    "        accessions = entry.findall(ns+\"accession\")\n",
    "        for acc in accessions:\n",
    "            if acc.text == uniprotID:\n",
    "                e = entry.find(f\"{ns}protein/{ns}recommendedName/{ns}fullName\")\n",
    "                if not e is None:\n",
    "                    data[\"name\"] = e.text \n",
    "                e = entry.find(f\"{ns}gene/{ns}name\")\n",
    "                if not e is None:\n",
    "                    data[\"geneName\"] = e.text         \n",
    "\n",
    "                data[\"GOterms\"] = goTerms(entry)\n",
    "                return data\n",
    "    raise ValueError(uniprotID)\n",
    "# Test\n",
    "tree = parse('./data/Calderwood_Human_proteome.xml')\n",
    "root = tree.getroot()    \n",
    "proteinDict(\"Q53Y88\", root)"
   ]
  },
  {
   "cell_type": "code",
   "execution_count": null,
   "metadata": {
    "scrolled": true
   },
   "outputs": [],
   "source": [
    "tree = parse('./data/Calderwood_EBV_proteome.xml')\n",
    "root = tree.getroot()    \n",
    "\n",
    "EBV_EBV_geneLabels = {}\n",
    "for node in G.nodes():\n",
    "    pDict = proteinDict(node, root)\n",
    "    EBV_EBV_geneLabels[node] =  pDict[\"geneName\"] if pDict[\"geneName\"] else str(node)\n",
    "EBV_EBV_geneLabels"
   ]
  },
  {
   "cell_type": "code",
   "execution_count": null,
   "metadata": {},
   "outputs": [],
   "source": [
    "plt.figure()\n",
    "plt.axis('off')\n",
    "\n",
    "#pos=nx.draw(G, with_labels=False)\n",
    "pos=nx.spring_layout(G)\n",
    "\n",
    "nx.draw_networkx_nodes(G, pos, node_size=5, node_color=\"blue\")\n",
    "nx.draw_networkx_labels(G,pos,EBV_EBV_geneLabels,font_size=6,font_weight=600,font_color='r')\n",
    "nx.draw_networkx_edges(G, pos, width=0.3)"
   ]
  },
  {
   "cell_type": "markdown",
   "metadata": {},
   "source": [
    "### Draw the EBV-human interactome w/ label only on human genes\n",
    "* Node labeled with gene Name\n",
    "* Different symbols for human and EBV genes respectively\n",
    "* Spring layout\n",
    "* [Bipartite layout](https://networkx.github.io/documentation/stable/reference/algorithms/bipartite.html?highlight=bipartite#module-networkx.algorithms.bipartite)"
   ]
  },
  {
   "cell_type": "code",
   "execution_count": null,
   "metadata": {},
   "outputs": [],
   "source": [
    "G2 = nx.Graph()\n",
    "humanGeneLabels = {}\n",
    "ebvGeneLabels   = {}\n",
    "\n",
    "for psqDatum in HumanEBV_psqData:\n",
    "    #print(psqDatum)\n",
    "    (a, b) = ( psqDatum[0], psqDatum[1] )\n",
    "    G2.add_edge(a, b)\n",
    "    (a,b) = (a,b) if re.search(reHuman, psqDatum[9]) else (b,a)\n",
    "    humanGeneLabels[a] = None\n",
    "    ebvGeneLabels[b]   = None\n",
    "    \n",
    "tree = parse('./data/Calderwood_Human_proteome.xml')\n",
    "root = tree.getroot()    \n",
    "for humanID in humanGeneLabels.keys():\n",
    "    pDict = proteinDict(humanID, root)\n",
    "    humanGeneLabels[humanID] = pDict[\"geneName\"] if pDict[\"geneName\"] else humanID\n",
    "    \n",
    "tree = parse('./data/Calderwood_EBV_proteome.xml')\n",
    "root = tree.getroot()    \n",
    "for ebvID in ebvGeneLabels.keys():\n",
    "    pDict = proteinDict(ebvID, root)\n",
    "    ebvGeneLabels[ebvID] = pDict[\"geneName\"] if pDict[\"geneName\"] else ebvID\n"
   ]
  },
  {
   "cell_type": "markdown",
   "metadata": {},
   "source": [
    "##### Spring layout"
   ]
  },
  {
   "cell_type": "code",
   "execution_count": null,
   "metadata": {},
   "outputs": [],
   "source": [
    "plt.figure(figsize=(10, 10))\n",
    "plt.axis('off')\n",
    "\n",
    "#pos=nx.draw(G, with_labels=False)\n",
    "pos=nx.spring_layout(G2, k= 0.225)\n",
    "\n",
    "nx.draw_networkx_nodes(G2, pos, node_size=8, node_color=\"blue\", node_shape=\"s\",nodelist=humanGeneLabels.keys() )\n",
    "nx.draw_networkx_nodes(G2, pos, node_size=8, node_color=\"red\", node_shape=\"o\",nodelist=ebvGeneLabels.keys() )\n",
    "nx.draw_networkx_labels(G2,pos,humanGeneLabels,font_size=6,font_weight=800,font_color='black')\n",
    "nx.draw_networkx_edges(G2, pos, width=0.5)\n",
    "plt.savefig(\"human_ebv.png\")"
   ]
  },
  {
   "cell_type": "markdown",
   "metadata": {},
   "source": [
    "[Bipartite](https://networkx.github.io/documentation/stable/reference/generated/networkx.drawing.layout.bipartite_layout.html)\n",
    "\n",
    "* Iterateur G.nodes()\n",
    "* Table de nom de noeuds humains\n",
    "* Table de noms de noeuds ebv\n",
    "* Bipartition d'un graph en specifiant seulemnt les label d'une partition.\n",
    "\n",
    "```python\n",
    "import networkx as nx\n",
    "plt.figure()\n",
    "plt.axis('off')\n",
    "\n",
    "G = nx.Graph()\n",
    "G.add_edge(\"A\", \"C\")\n",
    "G.add_edge(\"B\", \"C\")\n",
    "X, Y = nx.bipartite.sets(G,  [\"A\", \"B\"])\n",
    "pos = nx.bipartite_layout(G, X)\n",
    "nx.draw_networkx_nodes(G, pos, node_color=\"blue\", node_shape=\"o\",nodelist=[\"A\", \"B\"] )\n",
    "nx.draw_networkx_nodes(G, pos, node_color=\"red\", node_shape=\"o\",nodelist=[\"C\"] )\n",
    "nx.draw_networkx_labels(G,pos,font_weight=800,font_color='black')\n",
    "nx.draw_networkx_edges(G, pos, width=0.5)\n",
    "```"
   ]
  },
  {
   "cell_type": "code",
   "execution_count": null,
   "metadata": {},
   "outputs": [],
   "source": [
    "import networkx as nx\n",
    "plt.figure()\n",
    "plt.axis('off')\n",
    "\n",
    "G = nx.Graph()\n",
    "G.add_edge(\"A\", \"C\")\n",
    "G.add_edge(\"B\", \"C\")\n",
    "X, Y = nx.bipartite.sets(G,  [\"A\", \"B\"])\n",
    "pos = nx.bipartite_layout(G, X)\n",
    "nx.draw_networkx_nodes(G, pos, node_color=\"blue\", node_shape=\"o\",nodelist=[\"A\", \"B\"] )\n",
    "nx.draw_networkx_nodes(G, pos, node_color=\"red\", node_shape=\"o\",nodelist=[\"C\"] )\n",
    "nx.draw_networkx_labels(G,pos,font_weight=800,font_color='black')\n",
    "nx.draw_networkx_edges(G, pos, width=0.5)\n"
   ]
  },
  {
   "cell_type": "code",
   "execution_count": null,
   "metadata": {},
   "outputs": [],
   "source": [
    "plt.figure(figsize=(10, 10))\n",
    "plt.axis('off')\n",
    "\n",
    "X, Y = nx.bipartite.sets(G2, humanGeneLabels.keys())\n",
    "pos = nx.bipartite_layout(G2, X)\n",
    "\n",
    "allGeneLabels = {}\n",
    "allGeneLabels.update(humanGeneLabels)\n",
    "allGeneLabels.update(ebvGeneLabels)\n",
    "\n",
    "nx.draw_networkx_nodes(G2, pos, node_size=8, node_color=\"blue\", node_shape=\"s\",nodelist=humanGeneLabels.keys() )\n",
    "nx.draw_networkx_nodes(G2, pos, node_size=8, node_color=\"red\", node_shape=\"o\",nodelist=ebvGeneLabels.keys() )\n",
    "nx.draw_networkx_labels(G2,pos,allGeneLabels,font_size=6,font_weight=800,font_color='black')\n",
    "nx.draw_networkx_edges(G2, pos, width=0.5)"
   ]
  },
  {
   "cell_type": "markdown",
   "metadata": {},
   "source": [
    "### Multiple histogram of protein degree\n",
    "* Human-Human: complete mitab data, Graph already built\n",
    "* EBV-Human: interactant pair data, Graph to build"
   ]
  },
  {
   "cell_type": "code",
   "execution_count": null,
   "metadata": {},
   "outputs": [],
   "source": [
    "human_file = \"data/human_interactome_pair_uniprot.tab\"\n",
    "\n",
    "G_human = nx.Graph()\n",
    "with open(human_file, \"r\") as fp:\n",
    "    for l in fp:\n",
    "        _ = l.rstrip().split()\n",
    "        if _:\n",
    "            G_human.add_edge(_[0], _[1])\n",
    "            \n",
    "degHuman = { str(x) : G_human.degree(x) for x in G_human.nodes }\n",
    "\n",
    "degHuman_EBV_target = { humanID : degHuman[humanID] for humanID in humanGeneLabels.keys() if humanID in degHuman }"
   ]
  },
  {
   "cell_type": "code",
   "execution_count": null,
   "metadata": {},
   "outputs": [],
   "source": [
    "print(f\"Total human EBV target {len(humanGeneLabels)}, Total with degree info {len(degHuman_EBV_target)}\")"
   ]
  },
  {
   "cell_type": "code",
   "execution_count": null,
   "metadata": {},
   "outputs": [],
   "source": [
    "from scipy import stats\n",
    "\n",
    "all_data = [  np.array([ v for k, v in degHuman_EBV_target.items() ]),\n",
    "              np.array([ v for k, v in degHuman.items() ])\n",
    "           ]\n",
    "\n",
    "\n",
    "fig, ax = plt.subplots(nrows=1, ncols=1, figsize=(7, 5))\n",
    "ax.hist( [ all_data[0], all_data[1] ],\n",
    "         label=['Human-EBV', 'Human-self'], \n",
    "         density=True, bins=50 )\n",
    "fig.legend(loc='upper right')\n",
    "fig.suptitle(\"Normalized Node Degree Distribution\")\n",
    "fig.show()\n",
    "\n",
    "print(f\"Human-EBV statistics {stats.describe(all_data[0])}\")\n",
    "print(f\"Human-Human statistics {stats.describe(all_data[1])}\")"
   ]
  },
  {
   "cell_type": "code",
   "execution_count": null,
   "metadata": {},
   "outputs": [],
   "source": [
    "# Random test data\n",
    "import numpy as np\n",
    "labels = ['EBV target', 'All Human']\n",
    "\n",
    "fig, ax = plt.subplots(nrows=1, ncols=1, figsize=(9, 4))\n",
    "\n",
    "all_data = [  np.array([ v for k, v in degHuman_EBV_target.items() ]),\n",
    "              np.array([ v for k, v in degHuman.items() ])]#,\n",
    "#              np.array([ v for k, v in degEcoli.items() ]),\n",
    "           \n",
    "\n",
    "#all_data = [ np.true_divide(v, len(v)) for v in all_data ] \n",
    "\n",
    "# rectangular box plot\n",
    "bplot1 = ax.violinplot(all_data\n",
    "                     )  # will be used to label x-ticks\n",
    "\n",
    "def set_axis_style(ax, labels):\n",
    "    ax.get_xaxis().set_tick_params(direction='out')\n",
    "    ax.xaxis.set_ticks_position('bottom')\n",
    "    ax.set_xticks(np.arange(1, len(labels) + 1))\n",
    "    ax.set_xticklabels(labels)\n",
    "    ax.set_xlim(0.25, len(labels) + 0.75)\n",
    "    ax.set_xlabel('Sample name')\n",
    "    \n",
    "set_axis_style(ax, labels)"
   ]
  },
  {
   "cell_type": "code",
   "execution_count": null,
   "metadata": {},
   "outputs": [],
   "source": [
    "# Random test data\n",
    "\n",
    "labels = ['EBV target', 'All Human', 'E.Coli']\n",
    "\n",
    "fig, (ax1, ax2) = plt.subplots(nrows=1, ncols=2, figsize=(9, 4))\n",
    "\n",
    "all_data = [  [ v for k, v in degHuman_EBV_target.items() ],\n",
    "              [ v for k, v in degHuman.items() ],\n",
    "              [ v for k, v in degEcoli.items() ],\n",
    "           ]\n",
    "\n",
    "# rectangular box plot\n",
    "bplot1 = ax1.boxplot(all_data,\n",
    "                     vert=True,  # vertical box alignment\n",
    "                     patch_artist=True,  # fill with color\n",
    "                     labels=labels)  # will be used to label x-ticks\n",
    "ax1.set_title('Rectangular box plot')\n",
    "\n",
    "# notch shape box plot\n",
    "bplot2 = ax2.boxplot(all_data,\n",
    "                     notch=True,  # notch shape\n",
    "                     vert=True,  # vertical box alignment\n",
    "                     patch_artist=True,  # fill with color\n",
    "                     labels=labels)  # will be used to label x-ticks\n",
    "ax2.set_title('Notched box plot')\n",
    "\n",
    "# fill with colors\n",
    "colors = ['pink', 'lightblue', 'lightgreen']\n",
    "for bplot in (bplot1, bplot2):\n",
    "    for patch, color in zip(bplot['boxes'], colors):\n",
    "        patch.set_facecolor(color)\n",
    "\n",
    "# adding horizontal grid lines\n",
    "for ax in [ax1, ax2]:\n",
    "    ax.yaxis.grid(True)\n",
    "    ax.set_xlabel('Three separate samples')\n",
    "    ax.set_ylabel('Observed values')"
   ]
  },
  {
   "cell_type": "markdown",
   "metadata": {},
   "source": [
    "### Display some interactivity"
   ]
  },
  {
   "cell_type": "code",
   "execution_count": null,
   "metadata": {},
   "outputs": [],
   "source": [
    "import json\n",
    "\n",
    "nodes = [{'name': str(i),\n",
    "          'id': humanGeneLabels[i] if i in humanGeneLabels else ebvGeneLabels[i],\n",
    "          'type' : 'Human' if i in humanGeneLabels.keys() else 'EBV',\n",
    "          'weight':G2.degree(i)\n",
    "         }\n",
    "         for i in G2.nodes()\n",
    "        ]\n",
    "\n",
    "links = []\n",
    "for a,b in G2.edges() :\n",
    "   # print(a,b)\n",
    "    _ = { \"source\" : None, \"target\" : None }\n",
    "    \n",
    "    for i, n in enumerate(nodes):\n",
    "        if n['name'] == a:\n",
    "            _[\"source\"] = i\n",
    "        elif n['name'] == b:\n",
    "            _[\"target\"] = i\n",
    "    if  _[\"source\"] is None or _[\"target\"] is None:\n",
    "        print(_)\n",
    "        raise ValueError(a,b)\n",
    "    \n",
    "    links.append(_)\n",
    "         \n",
    "with open('graph.json', 'w') as f:\n",
    "    json.dump({'nodes': nodes, 'links': links},\n",
    "              f, indent=4)\n",
    "    "
   ]
  },
  {
   "cell_type": "code",
   "execution_count": null,
   "metadata": {},
   "outputs": [],
   "source": [
    "%%html\n",
    "<div id=\"d3-example\"></div>\n",
    "Graph EBV Human\n",
    "<style>\n",
    ".node {stroke: #fff; stroke-width: 1.5px;}\n",
    ".link {stroke: #999; stroke-opacity: .6;}\n",
    "</style>"
   ]
  },
  {
   "cell_type": "code",
   "execution_count": null,
   "metadata": {},
   "outputs": [],
   "source": [
    "%%javascript\n",
    "//const d3path = \"https://d3js.org/d3.v6.min.js\"\n",
    "const d3path = \"d3.v6.min.js\"\n",
    " console.log(\"Starting\");\n",
    "// We load the d3.js library from the Web.\n",
    "require.config( { paths : { d3: d3path }\n",
    "    } );\n",
    "\n",
    "require([\"d3\"], function(d3) {\n",
    "    console.log(\"Loading\");\n",
    "  // The code in this block is executed when the\n",
    "  // d3.js library has been loaded.\n",
    "\n",
    "  // First, we specify the size of the canvas\n",
    "  // containing the visualization (size of the\n",
    "  // <div> element).\n",
    "  var width = 800, height = 800;\n",
    "\n",
    "  // We create a color scale.\n",
    "  var color = d3.scale.category10();\n",
    "\n",
    "  // Create scale for node radius\n",
    "  let rMin = 3, rMax = 12;\n",
    "  let degMin = 1, degMax = 0;\n",
    "\n",
    "    \n",
    "  // We create a force-directed dynamic graph layout.\n",
    "  var force = d3.layout.force()\n",
    "    .charge(-120)\n",
    "    .linkDistance(30)\n",
    "    .size([width, height]);\n",
    "\n",
    "  // In the <div> element, we create a <svg> graphic\n",
    "  // that will contain our interactive visualization.\n",
    "  var svg = d3.select(\"#d3-example\").select(\"svg\")\n",
    "  if (svg.empty()) {\n",
    "    svg = d3.select(\"#d3-example\").append(\"svg\")\n",
    "          .attr(\"width\", width)\n",
    "          .attr(\"height\", height);\n",
    "  }\n",
    "\n",
    "  // We load the JSON file.\n",
    "  d3.json(\"graph.json\", function(error, graph) {\n",
    "    // In this block, the file has been loaded\n",
    "    // and the 'graph' object contains our graph.\n",
    "    console.log(\"Loading JSON\")\n",
    "    // We load the nodes and links in the\n",
    "    // force-directed graph.\n",
    "    console.dir(graph);\n",
    "    force.nodes(graph.nodes);\n",
    "    console.log(\"nodes loaded\");\n",
    "    force.links(graph.links)\n",
    "    console.log(\"links loaded\");\n",
    "   \n",
    "    // We create a <line> SVG element for each link\n",
    "    // in the graph.\n",
    "    var link = svg.selectAll(\".link\")\n",
    "      .data(graph.links)\n",
    "      .enter().append(\"line\")\n",
    "      .attr(\"class\", \"link\");\n",
    "\n",
    "    // We create a <circle> SVG element for each node\n",
    "    // in the graph, and we specify a few attributes.\n",
    "    var node = svg.selectAll(\".node\")\n",
    "      .data(graph.nodes)\n",
    "      .enter().append(\"circle\")\n",
    "      .attr(\"class\", \"node\")\n",
    "      //.attr(\"r\", 5)  // radius\n",
    "      .style(\"fill\", function(d) {\n",
    "          return  d.type === \"EBV\" ? \"firebrick\" : \"steelblue\"\n",
    "      }).each(function(d) {\n",
    "          degMax = d.weight > degMax ? d.weight : degMax;\n",
    "      })\n",
    "      .call(force.drag);\n",
    "\n",
    "      \n",
    "      let rScale = d3.scale.linear()\n",
    "          .domain([degMin, degMax]) // unit: km\n",
    "          .range([rMin,rMax]); // unit: pixels\n",
    "      node.attr(\"r\", function(d) {\n",
    "           return rScale(d.weight);\n",
    "      });  // radius\n",
    "      \n",
    "    // The name of each node is the node number.\n",
    "    node.append(\"title\")\n",
    "        .text(function(d) { return d.name; });\n",
    "\n",
    "    // We bind the positions of the SVG elements\n",
    "    // to the positions of the dynamic force-directed\n",
    "    // graph, at each time step.\n",
    "    force.on(\"tick\", function() {\n",
    "      link.attr(\"x1\", function(d){return d.source.x})\n",
    "          .attr(\"y1\", function(d){return d.source.y})\n",
    "          .attr(\"x2\", function(d){return d.target.x})\n",
    "          .attr(\"y2\", function(d){return d.target.y});\n",
    "\n",
    "      node.attr(\"cx\", function(d){return d.x})\n",
    "          .attr(\"cy\", function(d){return d.y});\n",
    "    });\n",
    "      \n",
    "    force.start();\n",
    "    console.log(\"OK\");\n",
    "  });\n",
    "},\n",
    "function (err) {\n",
    "    console.log(\"Could not load JS library \" + err);\n",
    "});"
   ]
  },
  {
   "cell_type": "markdown",
   "metadata": {},
   "source": [
    "## Go term présents dans les protéines humaines les plus ciblées par EBV\n",
    "* Classer les protéines par degré\n",
    "* Lister leur termes GO\n",
    "* Connaissant l'organisation de l'ontologie GO, quelles suggestions pour augmenter la qualité de l'analyse?\n",
    "* Classer les termes GO par occurences dans la liste des protéines humaine "
   ]
  },
  {
   "cell_type": "code",
   "execution_count": null,
   "metadata": {},
   "outputs": [],
   "source": [
    "### Score human protein by degree w/ EBV Proteins\n",
    "EBV_rankByDegree   = sorted([ n for n in G2.nodes() if not n in humanGeneLabels.keys() ],\n",
    "                              key = lambda x:G2.degree(x), reverse = True\n",
    "                           )\n",
    "Human_rankByDegree = sorted([ n for n in G2.nodes() if n in humanGeneLabels.keys() ],\n",
    "                              key = lambda x:G2.degree(x), reverse = True\n",
    "                           )    "
   ]
  },
  {
   "cell_type": "code",
   "execution_count": null,
   "metadata": {
    "scrolled": true
   },
   "outputs": [],
   "source": [
    "tree = parse('./data/Calderwood_Human_proteome.xml')\n",
    "root = tree.getroot()   \n",
    "for humanID in Human_rankByDegree[:3]:\n",
    "    print(proteinDict(humanID, root)[\"GOterms\"])\n"
   ]
  },
  {
   "cell_type": "code",
   "execution_count": null,
   "metadata": {},
   "outputs": [],
   "source": [
    "tree = parse('./data/Calderwood_Human_proteome.xml')\n",
    "root = tree.getroot()  \n",
    "\n",
    "GO_rankings = []\n",
    "for humanID in Human_rankByDegree:\n",
    "    pDict = proteinDict(humanID, root)\n",
    "    for newGo in pDict[\"GOterms\"]:\n",
    "        new = True\n",
    "        for go in GO_rankings:\n",
    "            if go[\"ID\"] == newGo[\"ID\"]:\n",
    "                go[\"count\"] += 1\n",
    "                new = False\n",
    "            break\n",
    "        if new:\n",
    "            newGo[\"count\"] = 1\n",
    "            GO_rankings.append(newGo)\n",
    "\n",
    "GO_rankings = sorted(GO_rankings, key=lambda x:x[\"count\"], reverse=True)"
   ]
  },
  {
   "cell_type": "code",
   "execution_count": null,
   "metadata": {},
   "outputs": [],
   "source": [
    "GO_rankings"
   ]
  },
  {
   "cell_type": "code",
   "execution_count": null,
   "metadata": {
    "scrolled": true
   },
   "outputs": [],
   "source": [
    "class degreeTable:\n",
    "    def __init__(self, nodeList):\n",
    "        self.data = nodeList\n",
    "    def _repr_html_(self): \n",
    "        html = \"<table><thead><th>Node</th><th>Degree</th></thead>\" \n",
    "        return html + \"<tbody><tr>\" + \"</tr><tr>\".join(\n",
    "            [ f\"<td>{str(n)}</td><td>{G2.degree(n)}</td>\" for n in self.data ]\n",
    "        ) + '</tr></tbody></table>'\n",
    "\n",
    "degreeTable(EBV_rankByDegree)"
   ]
  },
  {
   "cell_type": "code",
   "execution_count": null,
   "metadata": {},
   "outputs": [],
   "source": [
    "degreeTable(Human_rankByDegree)"
   ]
  },
  {
   "cell_type": "markdown",
   "metadata": {},
   "source": [
    "# XML data preparation steps\n",
    "##### Generation of:\n",
    "* EBV uniprot entries in `Calderwood_EBV_proteome.xml`\n",
    "* Human uniprot entries in `Calderwood_Human_proteome.xml`"
   ]
  },
  {
   "cell_type": "markdown",
   "metadata": {},
   "source": [
    "### Get EBV xml Entries\n",
    "* extract uniprot ID from mitab\n",
    "* fetch individual uniprot xml\n",
    "* Collect them in a single `Calderwood_EBV_proteome.xml` file"
   ]
  },
  {
   "cell_type": "code",
   "execution_count": null,
   "metadata": {},
   "outputs": [],
   "source": [
    "from xml.etree.ElementTree import parse, dump, fromstring, register_namespace, ElementTree\n",
    "\n",
    "\n",
    "#Fetch Xml document from uniprot\n",
    "\n",
    "EBV_entryName = []\n",
    "for psqDatum in EBV_psqData:\n",
    "    EBV_entryName += [ _.replace(\"uniprotkb:\", \"\") for _ in psqDatum[:2] ]\n",
    "\n",
    "print(f\"{len(EBV_psqData)} EBV-only psq data found {len(set(EBV_entryName))} EBV entries\")\n",
    "for psqDatum in HumanEBV_psqData:\n",
    "    if re.search(reEBV, psqDatum[9]):\n",
    "        EBV_entryName.append( psqDatum[0].replace(\"uniprotkb:\", \"\") )\n",
    "    elif re.search(reEBV, psqDatum[10]):\n",
    "        EBV_entryName.append( psqDatum[1].replace(\"uniprotkb:\", \"\") )\n",
    "    else :\n",
    "        raise ValueError(psqDatum)\n",
    "    \n",
    "EBV_entryName = set(EBV_entryName)\n",
    "\n",
    "print(f\"{len(EBV_psqData)} EBV-only & {len(HumanEBV_psqData)} EBV-Human psq data found {len(EBV_entryName)} EBV entries\")\n",
    "\n",
    "xmlRawDoc = []\n",
    "for uniprotID in EBV_entryName:\n",
    "    xmlRequest=f\"https://www.uniprot.org/uniprot/{uniprotID}.xml\"\n",
    "    try:\n",
    "        httpReq = requests.get(xmlRequest, proxies=proxies)\n",
    "    except NameError:\n",
    "        httpReq = requests.get(xmlRequest)\n",
    "\n",
    "    xmlRawDoc.append(httpReq.text)\n"
   ]
  },
  {
   "cell_type": "code",
   "execution_count": null,
   "metadata": {},
   "outputs": [],
   "source": [
    "register_namespace('', \"http://uniprot.org/uniprot\")\n",
    "ns = '{http://uniprot.org/uniprot}'\n",
    "collectionHolder = '<?xml version=\"1.0\" encoding=\"UTF-8\"?>\\n<uniprot xmlns=\"http://uniprot.org/uniprot\" xmlns:xsi=\"http://www.w3.org/2001/XMLSchema-instance\" xsi:schemaLocation=\"http://uniprot.org/uniprot http://www.uniprot.org/support/docs/uniprot.xsd\"></uniprot>'\n",
    "collection = fromstring(collectionHolder)\n",
    "\n",
    "for _ in xmlRawDoc:\n",
    "    tree = fromstring(_)\n",
    "    collection.append(tree.find(ns+\"entry\"))\n",
    "\n",
    "    _= f\"{ns}entry\"\n",
    "print( f\"initial number of xml document {len(xmlRawDoc)} found {len( collection.findall(_))} uniprot entries\")\n",
    "tree = ElementTree(collection)\n",
    "tree.write(\"./data/Calderwood_EBV_proteome.xml\")"
   ]
  },
  {
   "cell_type": "markdown",
   "metadata": {},
   "source": [
    "### Get Human xml Entries\n",
    "* extract uniprot ID from mitab\n",
    "* fetch individual uniprot xml\n",
    "* Collect them in a single `Calderwood_Human_proteome.xml` file\n"
   ]
  },
  {
   "cell_type": "code",
   "execution_count": null,
   "metadata": {},
   "outputs": [],
   "source": [
    "humanEntryName = []\n",
    "for psqDatum in HumanEBV_psqData:   \n",
    "    if re.search(reHuman, psqDatum[9]):\n",
    "        humanEntryName.append( psqDatum[0].replace(\"uniprotkb:\", \"\") if  psqDatum[0].startswith(\"uniprotkb:\") else  psqDatum[2].replace(\"uniprotkb:\", \"\"))\n",
    "    elif re.search(reHuman, psqDatum[10]):\n",
    "         humanEntryName.append( psqDatum[1].replace(\"uniprotkb:\", \"\") if  psqDatum[1].startswith(\"uniprotkb:\") else  psqDatum[3].replace(\"uniprotkb:\", \"\"))\n",
    "    else :\n",
    "        raise ValueError(psqDatum)\n",
    "    if humanEntryName[-1] == '-': # Two mappings to uniprot are incorrect, we would need to go through gene name to rescue them\n",
    "        humanEntryName = humanEntryName[:-1]\n",
    "\n",
    "humanEntryName = set(humanEntryName)\n",
    "\n",
    "print(f\"{len(HumanEBV_psqData)} EBV-Human psq data found {len(humanEntryName)} human entries\")\n",
    "\n",
    "xmlRawDoc = []\n",
    "for uniprotID in humanEntryName:\n",
    "    xmlRequest=f\"https://www.uniprot.org/uniprot/{uniprotID}.xml\"\n",
    "    try:\n",
    "        httpReq = requests.get(xmlRequest, proxies=proxies)\n",
    "    except NameError:\n",
    "        httpReq = requests.get(xmlRequest)\n",
    "\n",
    "    xmlRawDoc.append(httpReq.text)\n"
   ]
  },
  {
   "cell_type": "code",
   "execution_count": null,
   "metadata": {},
   "outputs": [],
   "source": [
    "register_namespace('', \"http://uniprot.org/uniprot\")\n",
    "ns = '{http://uniprot.org/uniprot}'\n",
    "collectionHolder = '<?xml version=\"1.0\" encoding=\"UTF-8\"?>\\n<uniprot xmlns=\"http://uniprot.org/uniprot\" xmlns:xsi=\"http://www.w3.org/2001/XMLSchema-instance\" xsi:schemaLocation=\"http://uniprot.org/uniprot http://www.uniprot.org/support/docs/uniprot.xsd\"></uniprot>'\n",
    "collection = fromstring(collectionHolder)\n",
    "\n",
    "for _, n in zip(xmlRawDoc, humanEntryName):\n",
    "#    print(n,\"-->\", _)\n",
    "    tree = fromstring(_)\n",
    "    collection.append(tree.find(ns+\"entry\"))\n",
    "\n",
    "    _= f\"{ns}entry\"\n",
    "print( f\"initial number of xml document {len(xmlRawDoc)} found {len( collection.findall(_))} uniprot entries\")\n",
    "tree = ElementTree(collection)\n",
    "tree.write(\"./data/Calderwood_Human_proteome.xml\")"
   ]
  }
 ],
 "metadata": {
  "kernelspec": {
   "display_name": "JM",
   "language": "python",
   "name": "jm"
  },
  "language_info": {
   "codemirror_mode": {
    "name": "ipython",
    "version": 3
   },
   "file_extension": ".py",
   "mimetype": "text/x-python",
   "name": "python",
   "nbconvert_exporter": "python",
   "pygments_lexer": "ipython3",
   "version": "3.8.5"
  }
 },
 "nbformat": 4,
 "nbformat_minor": 2
}
